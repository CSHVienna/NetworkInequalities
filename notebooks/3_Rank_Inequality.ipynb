{
 "cells": [
  {
   "cell_type": "markdown",
   "id": "4f322657-8a12-4ed5-b1e5-e86f40fa015c",
   "metadata": {},
   "source": [
    "# Rank Inequality\n",
    "*Gini coefficient in each top-k rank*"
   ]
  },
  {
   "cell_type": "markdown",
   "id": "a7c5aeac-cc1f-4e86-9e1c-ca492f7637e5",
   "metadata": {},
   "source": [
    "## Setup"
   ]
  },
  {
   "cell_type": "code",
   "execution_count": 1,
   "id": "2a6e5517-72a9-4c54-9038-ad99fc8f52b6",
   "metadata": {},
   "outputs": [],
   "source": [
    "%load_ext autoreload\n",
    "%autoreload 2\n",
    "\n",
    "import sys\n",
    "sys.path.append('../')\n",
    "from libs.handlers import utils\n",
    "from libs.handlers import viz\n",
    "from libs.handlers import io\n",
    "from libs.handlers import validations as val"
   ]
  },
  {
   "cell_type": "code",
   "execution_count": 2,
   "id": "b0a7bad5-a743-45da-b1da-9c1686938664",
   "metadata": {},
   "outputs": [],
   "source": [
    "DATA = '../data/synthetic'\n",
    "FN_RESULTS = val.validate_path(\"../results/distributions.csv\")\n",
    "PLOTS = val.validate_path(\"../plots\")"
   ]
  },
  {
   "cell_type": "markdown",
   "id": "34bd8859-23e4-4f62-9c59-90bbb186e628",
   "metadata": {},
   "source": [
    "## Load node distributions"
   ]
  },
  {
   "cell_type": "code",
   "execution_count": 3,
   "id": "76cbe011-c6b1-40dc-97e2-13de0207b8bf",
   "metadata": {},
   "outputs": [],
   "source": [
    "df_results = io.read_csv(FN_RESULTS, allow_empty=True)\n",
    "is_new = utils.dataframe_is_empty(df_results)"
   ]
  },
  {
   "cell_type": "code",
   "execution_count": 4,
   "id": "099e7c26-aab9-4174-8b69-aea5821490a8",
   "metadata": {},
   "outputs": [
    {
     "name": "stdout",
     "output_type": "stream",
     "text": [
      "Data folder: ../data/synthetic\n",
      "Output: ../results/distributions.csv (already exists)\n",
      "Plots folder: ../plots\n"
     ]
    }
   ],
   "source": [
    "print(f\"Data folder: {DATA}\")\n",
    "print(f\"Output: {FN_RESULTS} ({'new' if is_new else 'already exists'})\")\n",
    "print(f\"Plots folder: {PLOTS}\")"
   ]
  },
  {
   "cell_type": "code",
   "execution_count": 5,
   "id": "a493e757-debd-4423-9edb-6b4d33666a4a",
   "metadata": {},
   "outputs": [],
   "source": [
    "if is_new:\n",
    "    df_results = utils.load_distributions(DATA)\n",
    "    io.to_csv(df_results, fn=FN_RESULTS, verbose=True)"
   ]
  },
  {
   "cell_type": "code",
   "execution_count": 6,
   "id": "22d55d14-eacd-4173-ba96-8460552c8b80",
   "metadata": {},
   "outputs": [
    {
     "data": {
      "text/plain": [
       "(3207000, 18)"
      ]
     },
     "execution_count": 6,
     "metadata": {},
     "output_type": "execute_result"
    }
   ],
   "source": [
    "df_results.shape"
   ]
  },
  {
   "cell_type": "code",
   "execution_count": 7,
   "id": "e232f85f-544f-44be-82ef-1147937d7c0c",
   "metadata": {},
   "outputs": [
    {
     "data": {
      "text/html": [
       "<div>\n",
       "<style scoped>\n",
       "    .dataframe tbody tr th:only-of-type {\n",
       "        vertical-align: middle;\n",
       "    }\n",
       "\n",
       "    .dataframe tbody tr th {\n",
       "        vertical-align: top;\n",
       "    }\n",
       "\n",
       "    .dataframe thead th {\n",
       "        text-align: right;\n",
       "    }\n",
       "</style>\n",
       "<table border=\"1\" class=\"dataframe\">\n",
       "  <thead>\n",
       "    <tr style=\"text-align: right;\">\n",
       "      <th></th>\n",
       "      <th>name</th>\n",
       "      <th>N</th>\n",
       "      <th>m</th>\n",
       "      <th>fm</th>\n",
       "      <th>h_MM</th>\n",
       "      <th>h_mm</th>\n",
       "      <th>seed</th>\n",
       "      <th>network_id</th>\n",
       "      <th>node</th>\n",
       "      <th>label</th>\n",
       "      <th>degree</th>\n",
       "      <th>indegree</th>\n",
       "      <th>outdegree</th>\n",
       "      <th>pagerank</th>\n",
       "      <th>tc</th>\n",
       "      <th>d</th>\n",
       "      <th>plo_M</th>\n",
       "      <th>plo_m</th>\n",
       "    </tr>\n",
       "  </thead>\n",
       "  <tbody>\n",
       "    <tr>\n",
       "      <th>3178151</th>\n",
       "      <td>DH</td>\n",
       "      <td>1000</td>\n",
       "      <td>NaN</td>\n",
       "      <td>0.1</td>\n",
       "      <td>0.0</td>\n",
       "      <td>0.1</td>\n",
       "      <td>2192069462</td>\n",
       "      <td>96</td>\n",
       "      <td>68</td>\n",
       "      <td>0</td>\n",
       "      <td>NaN</td>\n",
       "      <td>0.0</td>\n",
       "      <td>0.0</td>\n",
       "      <td>0.000362</td>\n",
       "      <td>NaN</td>\n",
       "      <td>0.01</td>\n",
       "      <td>1.5</td>\n",
       "      <td>2.5</td>\n",
       "    </tr>\n",
       "    <tr>\n",
       "      <th>2755045</th>\n",
       "      <td>PATCH</td>\n",
       "      <td>1000</td>\n",
       "      <td>2.0</td>\n",
       "      <td>0.1</td>\n",
       "      <td>0.1</td>\n",
       "      <td>1.0</td>\n",
       "      <td>1840712015</td>\n",
       "      <td>2151</td>\n",
       "      <td>968</td>\n",
       "      <td>0</td>\n",
       "      <td>2.0</td>\n",
       "      <td>NaN</td>\n",
       "      <td>NaN</td>\n",
       "      <td>0.000583</td>\n",
       "      <td>0.2</td>\n",
       "      <td>NaN</td>\n",
       "      <td>NaN</td>\n",
       "      <td>NaN</td>\n",
       "    </tr>\n",
       "    <tr>\n",
       "      <th>2662166</th>\n",
       "      <td>PATCH</td>\n",
       "      <td>1000</td>\n",
       "      <td>2.0</td>\n",
       "      <td>0.3</td>\n",
       "      <td>1.0</td>\n",
       "      <td>0.5</td>\n",
       "      <td>3326860679</td>\n",
       "      <td>2058</td>\n",
       "      <td>230</td>\n",
       "      <td>0</td>\n",
       "      <td>2.0</td>\n",
       "      <td>NaN</td>\n",
       "      <td>NaN</td>\n",
       "      <td>0.000550</td>\n",
       "      <td>0.8</td>\n",
       "      <td>NaN</td>\n",
       "      <td>NaN</td>\n",
       "      <td>NaN</td>\n",
       "    </tr>\n",
       "    <tr>\n",
       "      <th>846743</th>\n",
       "      <td>PATCH</td>\n",
       "      <td>1000</td>\n",
       "      <td>2.0</td>\n",
       "      <td>0.2</td>\n",
       "      <td>1.0</td>\n",
       "      <td>1.0</td>\n",
       "      <td>964494048</td>\n",
       "      <td>242</td>\n",
       "      <td>966</td>\n",
       "      <td>0</td>\n",
       "      <td>2.0</td>\n",
       "      <td>NaN</td>\n",
       "      <td>NaN</td>\n",
       "      <td>0.000588</td>\n",
       "      <td>0.2</td>\n",
       "      <td>NaN</td>\n",
       "      <td>NaN</td>\n",
       "      <td>NaN</td>\n",
       "    </tr>\n",
       "    <tr>\n",
       "      <th>2908553</th>\n",
       "      <td>PATCH</td>\n",
       "      <td>1000</td>\n",
       "      <td>2.0</td>\n",
       "      <td>0.4</td>\n",
       "      <td>1.0</td>\n",
       "      <td>0.2</td>\n",
       "      <td>3707087221</td>\n",
       "      <td>2304</td>\n",
       "      <td>210</td>\n",
       "      <td>0</td>\n",
       "      <td>3.0</td>\n",
       "      <td>NaN</td>\n",
       "      <td>NaN</td>\n",
       "      <td>0.000773</td>\n",
       "      <td>0.4</td>\n",
       "      <td>NaN</td>\n",
       "      <td>NaN</td>\n",
       "      <td>NaN</td>\n",
       "    </tr>\n",
       "  </tbody>\n",
       "</table>\n",
       "</div>"
      ],
      "text/plain": [
       "          name     N    m   fm  h_MM  h_mm        seed  network_id  node  \\\n",
       "3178151     DH  1000  NaN  0.1   0.0   0.1  2192069462          96    68   \n",
       "2755045  PATCH  1000  2.0  0.1   0.1   1.0  1840712015        2151   968   \n",
       "2662166  PATCH  1000  2.0  0.3   1.0   0.5  3326860679        2058   230   \n",
       "846743   PATCH  1000  2.0  0.2   1.0   1.0   964494048         242   966   \n",
       "2908553  PATCH  1000  2.0  0.4   1.0   0.2  3707087221        2304   210   \n",
       "\n",
       "         label  degree  indegree  outdegree  pagerank   tc     d  plo_M  plo_m  \n",
       "3178151      0     NaN       0.0        0.0  0.000362  NaN  0.01    1.5    2.5  \n",
       "2755045      0     2.0       NaN        NaN  0.000583  0.2   NaN    NaN    NaN  \n",
       "2662166      0     2.0       NaN        NaN  0.000550  0.8   NaN    NaN    NaN  \n",
       "846743       0     2.0       NaN        NaN  0.000588  0.2   NaN    NaN    NaN  \n",
       "2908553      0     3.0       NaN        NaN  0.000773  0.4   NaN    NaN    NaN  "
      ]
     },
     "execution_count": 7,
     "metadata": {},
     "output_type": "execute_result"
    }
   ],
   "source": [
    "df_results.sample(5)"
   ]
  },
  {
   "cell_type": "markdown",
   "id": "c6c3202b-e7ce-478a-81c3-a5ae0e30fc5c",
   "metadata": {},
   "source": [
    "## Plots"
   ]
  },
  {
   "cell_type": "code",
   "execution_count": 8,
   "id": "7004d672-3d4e-43d2-8d3e-b9198d107114",
   "metadata": {},
   "outputs": [
    {
     "data": {
      "text/html": [
       "<div>\n",
       "<style scoped>\n",
       "    .dataframe tbody tr th:only-of-type {\n",
       "        vertical-align: middle;\n",
       "    }\n",
       "\n",
       "    .dataframe tbody tr th {\n",
       "        vertical-align: top;\n",
       "    }\n",
       "\n",
       "    .dataframe thead th {\n",
       "        text-align: right;\n",
       "    }\n",
       "</style>\n",
       "<table border=\"1\" class=\"dataframe\">\n",
       "  <thead>\n",
       "    <tr style=\"text-align: right;\">\n",
       "      <th></th>\n",
       "      <th>name</th>\n",
       "      <th>N</th>\n",
       "      <th>m</th>\n",
       "      <th>fm</th>\n",
       "      <th>h_MM</th>\n",
       "      <th>h_mm</th>\n",
       "      <th>seed</th>\n",
       "      <th>network_id</th>\n",
       "      <th>node</th>\n",
       "      <th>label</th>\n",
       "      <th>value</th>\n",
       "      <th>tc</th>\n",
       "      <th>d</th>\n",
       "      <th>plo_M</th>\n",
       "      <th>plo_m</th>\n",
       "      <th>metric</th>\n",
       "      <th>rank</th>\n",
       "    </tr>\n",
       "  </thead>\n",
       "  <tbody>\n",
       "    <tr>\n",
       "      <th>11182</th>\n",
       "      <td>DPAH</td>\n",
       "      <td>1000</td>\n",
       "      <td>NaN</td>\n",
       "      <td>0.1</td>\n",
       "      <td>0.0</td>\n",
       "      <td>0.0</td>\n",
       "      <td>1187877037</td>\n",
       "      <td>33</td>\n",
       "      <td>553</td>\n",
       "      <td>0</td>\n",
       "      <td>0.000842</td>\n",
       "      <td>NaN</td>\n",
       "      <td>0.01</td>\n",
       "      <td>1.5</td>\n",
       "      <td>1.5</td>\n",
       "      <td>pagerank</td>\n",
       "      <td>0.698551</td>\n",
       "    </tr>\n",
       "    <tr>\n",
       "      <th>4344</th>\n",
       "      <td>DPA</td>\n",
       "      <td>1000</td>\n",
       "      <td>NaN</td>\n",
       "      <td>0.1</td>\n",
       "      <td>NaN</td>\n",
       "      <td>NaN</td>\n",
       "      <td>3828216908</td>\n",
       "      <td>1</td>\n",
       "      <td>269</td>\n",
       "      <td>0</td>\n",
       "      <td>NaN</td>\n",
       "      <td>NaN</td>\n",
       "      <td>0.01</td>\n",
       "      <td>1.5</td>\n",
       "      <td>1.5</td>\n",
       "      <td>degree</td>\n",
       "      <td>NaN</td>\n",
       "    </tr>\n",
       "    <tr>\n",
       "      <th>14886</th>\n",
       "      <td>PAH</td>\n",
       "      <td>1000</td>\n",
       "      <td>2.0</td>\n",
       "      <td>0.1</td>\n",
       "      <td>0.0</td>\n",
       "      <td>0.0</td>\n",
       "      <td>3762354565</td>\n",
       "      <td>478</td>\n",
       "      <td>444</td>\n",
       "      <td>0</td>\n",
       "      <td>NaN</td>\n",
       "      <td>NaN</td>\n",
       "      <td>NaN</td>\n",
       "      <td>NaN</td>\n",
       "      <td>NaN</td>\n",
       "      <td>outdegree</td>\n",
       "      <td>NaN</td>\n",
       "    </tr>\n",
       "    <tr>\n",
       "      <th>12702</th>\n",
       "      <td>PAH</td>\n",
       "      <td>1000</td>\n",
       "      <td>2.0</td>\n",
       "      <td>0.1</td>\n",
       "      <td>0.0</td>\n",
       "      <td>0.0</td>\n",
       "      <td>3762354565</td>\n",
       "      <td>478</td>\n",
       "      <td>112</td>\n",
       "      <td>0</td>\n",
       "      <td>4.000000</td>\n",
       "      <td>NaN</td>\n",
       "      <td>NaN</td>\n",
       "      <td>NaN</td>\n",
       "      <td>NaN</td>\n",
       "      <td>degree</td>\n",
       "      <td>0.933333</td>\n",
       "    </tr>\n",
       "    <tr>\n",
       "      <th>1596</th>\n",
       "      <td>DH</td>\n",
       "      <td>1000</td>\n",
       "      <td>NaN</td>\n",
       "      <td>0.1</td>\n",
       "      <td>0.0</td>\n",
       "      <td>0.0</td>\n",
       "      <td>857540500</td>\n",
       "      <td>70</td>\n",
       "      <td>410</td>\n",
       "      <td>0</td>\n",
       "      <td>4.000000</td>\n",
       "      <td>NaN</td>\n",
       "      <td>0.01</td>\n",
       "      <td>1.5</td>\n",
       "      <td>1.5</td>\n",
       "      <td>indegree</td>\n",
       "      <td>0.903226</td>\n",
       "    </tr>\n",
       "  </tbody>\n",
       "</table>\n",
       "</div>"
      ],
      "text/plain": [
       "       name     N    m   fm  h_MM  h_mm        seed  network_id  node  label  \\\n",
       "11182  DPAH  1000  NaN  0.1   0.0   0.0  1187877037          33   553      0   \n",
       "4344    DPA  1000  NaN  0.1   NaN   NaN  3828216908           1   269      0   \n",
       "14886   PAH  1000  2.0  0.1   0.0   0.0  3762354565         478   444      0   \n",
       "12702   PAH  1000  2.0  0.1   0.0   0.0  3762354565         478   112      0   \n",
       "1596     DH  1000  NaN  0.1   0.0   0.0   857540500          70   410      0   \n",
       "\n",
       "          value  tc     d  plo_M  plo_m     metric      rank  \n",
       "11182  0.000842 NaN  0.01    1.5    1.5   pagerank  0.698551  \n",
       "4344        NaN NaN  0.01    1.5    1.5     degree       NaN  \n",
       "14886       NaN NaN   NaN    NaN    NaN  outdegree       NaN  \n",
       "12702  4.000000 NaN   NaN    NaN    NaN     degree  0.933333  \n",
       "1596   4.000000 NaN  0.01    1.5    1.5   indegree  0.903226  "
      ]
     },
     "execution_count": 8,
     "metadata": {},
     "output_type": "execute_result"
    }
   ],
   "source": [
    "# Small sample\n",
    "params = dict(m=2, d=0.01, fm=0.1, h_MM=0.0, h_mm=0.0, tc=0.2, plo_M=1.5, plo_m=1.5)\n",
    "data = utils.dataframe_sample(df_results, **params)\n",
    "data = utils.flatten_dataframe_by_metric(data)\n",
    "data = utils.apply_rank(data)\n",
    "data.sample(5)"
   ]
  },
  {
   "cell_type": "code",
   "execution_count": 9,
   "id": "6aa618ed-f31b-4307-9260-05bd437dcf78",
   "metadata": {},
   "outputs": [
    {
     "name": "stdout",
     "output_type": "stream",
     "text": [
      "[INFO] ../plots/inequality_across_generators_d0.01_fm0.1_hMM0.0_hmm0.0_tc0.2_ploM1.5_plom1.5.pdf saved!\n",
      "[INFO] ../plots/inequality_across_generators_d0.01_fm0.1_hMM0.0_hmm0.0_tc0.2_ploM1.5_plom1.5.png saved!\n"
     ]
    },
    {
     "data": {
      "image/png": "[encoded data removed]",
      "text/plain": [
       "<Figure size 1000x800 with 20 Axes>"
      ]
     },
     "metadata": {},
     "output_type": "display_data"
    }
   ],
   "source": [
    "viz.plot_inequality_across_models(data, output=PLOTS, **params)"
   ]
  }
 ],
 "metadata": {
  "kernelspec": {
   "display_name": "Python 3 (ipykernel)",
   "language": "python",
   "name": "python3"
  },
  "language_info": {
   "codemirror_mode": {
    "name": "ipython",
    "version": 3
   },
   "file_extension": ".py",
   "mimetype": "text/x-python",
   "name": "python",
   "nbconvert_exporter": "python",
   "pygments_lexer": "ipython3",
   "version": "3.9.13"
  }
 },
 "nbformat": 4,
 "nbformat_minor": 5
}
