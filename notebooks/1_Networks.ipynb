{
 "cells": [
  {
   "cell_type": "markdown",
   "id": "4f322657-8a12-4ed5-b1e5-e86f40fa015c",
   "metadata": {},
   "source": [
    "# Synthetic Networks\n",
    "*Generative models to create scale-free networks*"
   ]
  },
  {
   "cell_type": "markdown",
   "id": "a7c5aeac-cc1f-4e86-9e1c-ca492f7637e5",
   "metadata": {},
   "source": [
    "## Setup"
   ]
  },
  {
   "cell_type": "code",
   "execution_count": 1,
   "id": "2a6e5517-72a9-4c54-9038-ad99fc8f52b6",
   "metadata": {},
   "outputs": [],
   "source": [
    "%load_ext autoreload\n",
    "%autoreload 2\n",
    "\n",
    "import sys\n",
    "sys.path.append('../')\n",
    "from libs.handlers import utils\n",
    "from libs.handlers import viz\n",
    "from libs.handlers import io\n",
    "from libs.handlers import validations as val"
   ]
  },
  {
   "cell_type": "code",
   "execution_count": 2,
   "id": "b0a7bad5-a743-45da-b1da-9c1686938664",
   "metadata": {},
   "outputs": [],
   "source": [
    "DATA = '../data/synthetic'\n",
    "PLOTS = val.validate_path(\"../plots\")"
   ]
  },
  {
   "cell_type": "code",
   "execution_count": 3,
   "id": "099e7c26-aab9-4174-8b69-aea5821490a8",
   "metadata": {},
   "outputs": [
    {
     "name": "stdout",
     "output_type": "stream",
     "text": [
      "Data folder: ../data/synthetic\n",
      "Plots folder: ../plots\n"
     ]
    }
   ],
   "source": [
    "print(f\"Data folder: {DATA}\")\n",
    "print(f\"Plots folder: {PLOTS}\")"
   ]
  },
  {
   "cell_type": "markdown",
   "id": "c6c3202b-e7ce-478a-81c3-a5ae0e30fc5c",
   "metadata": {},
   "source": [
    "## Plots"
   ]
  },
  {
   "cell_type": "code",
   "execution_count": null,
   "id": "7004d672-3d4e-43d2-8d3e-b9198d107114",
   "metadata": {},
   "outputs": [],
   "source": [
    "# Small sample\n",
    "params = dict(m=2, d=0.01, fm=0.1, h_MM=0.0, h_mm=0.0, tc=0.2, plo_M=1.5, plo_m=1.5)\n",
    "viz.plot_network_across_models(data=DATA, output=PLOTS, **params)"
   ]
  },
  {
   "cell_type": "code",
   "execution_count": null,
   "id": "edca191b-f282-4d97-9d62-991867637626",
   "metadata": {},
   "outputs": [],
   "source": []
  }
 ],
 "metadata": {
  "kernelspec": {
   "display_name": "Python 3 (ipykernel)",
   "language": "python",
   "name": "python3"
  },
  "language_info": {
   "codemirror_mode": {
    "name": "ipython",
    "version": 3
   },
   "file_extension": ".py",
   "mimetype": "text/x-python",
   "name": "python",
   "nbconvert_exporter": "python",
   "pygments_lexer": "ipython3",
   "version": "3.9.13"
  }
 },
 "nbformat": 4,
 "nbformat_minor": 5
}
