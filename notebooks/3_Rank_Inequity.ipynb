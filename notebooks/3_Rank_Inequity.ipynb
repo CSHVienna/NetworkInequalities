{
 "cells": [
  {
   "cell_type": "markdown",
   "id": "4f322657-8a12-4ed5-b1e5-e86f40fa015c",
   "metadata": {},
   "source": [
    "# Rank Inequity"
   ]
  },
  {
   "cell_type": "markdown",
   "id": "a7c5aeac-cc1f-4e86-9e1c-ca492f7637e5",
   "metadata": {},
   "source": [
    "## Setup"
   ]
  },
  {
   "cell_type": "code",
   "execution_count": null,
   "id": "2a6e5517-72a9-4c54-9038-ad99fc8f52b6",
   "metadata": {},
   "outputs": [],
   "source": [
    "%load_ext autoreload\n",
    "%autoreload 2\n",
    "\n",
    "import sys\n",
    "sys.path.append('../')\n",
    "from libs.handlers import utils\n",
    "from libs.handlers import viz\n",
    "from libs.handlers import io\n",
    "from libs.handlers import validations as val"
   ]
  },
  {
   "cell_type": "code",
   "execution_count": null,
   "id": "b0a7bad5-a743-45da-b1da-9c1686938664",
   "metadata": {},
   "outputs": [],
   "source": [
    "DATA = '../data/synthetic'\n",
    "FN_RESULTS = val.validate_path(\"../results/distributions.csv\")\n",
    "PLOTS = val.validate_path(\"../plots\")"
   ]
  },
  {
   "cell_type": "markdown",
   "id": "34bd8859-23e4-4f62-9c59-90bbb186e628",
   "metadata": {},
   "source": [
    "## Graph generation"
   ]
  },
  {
   "cell_type": "code",
   "execution_count": null,
   "id": "76cbe011-c6b1-40dc-97e2-13de0207b8bf",
   "metadata": {},
   "outputs": [],
   "source": [
    "df_results = io.read_csv(FN_RESULTS, allow_empty=True)\n",
    "is_new = utils.dataframe_is_empty(df_results)"
   ]
  },
  {
   "cell_type": "code",
   "execution_count": null,
   "id": "099e7c26-aab9-4174-8b69-aea5821490a8",
   "metadata": {},
   "outputs": [],
   "source": [
    "print(f\"Data folder: {DATA}\")\n",
    "print(f\"Output: {FN_RESULTS} ({'new' if is_new else 'already exists'})\")\n",
    "print(f\"Plots folder: {PLOTS}\")"
   ]
  },
  {
   "cell_type": "markdown",
   "id": "066c4a3a-b9d2-481e-b880-1f849c6728d7",
   "metadata": {},
   "source": [
    "### PAH (BA Homophily)\n",
    "Undirected networks with **P**referential **A**ttachment and **H**omophily"
   ]
  },
  {
   "cell_type": "code",
   "execution_count": null,
   "id": "fef9870e-f290-496a-bd6c-a50730b890e9",
   "metadata": {},
   "outputs": [],
   "source": [
    "if is_new:\n",
    "    tmp = utils.load_distributions(DATA, 'PAH')\n",
    "    df_results = utils.concat_dataframe(df_results, tmp)"
   ]
  },
  {
   "cell_type": "markdown",
   "id": "152d3dbd-65c0-40f6-aa10-b955f37a7b1e",
   "metadata": {},
   "source": [
    "### PATCH\n",
    "Undirected networks with **P**referential **A**ttachment, **T**riadic **C**losure, and **H**omophily"
   ]
  },
  {
   "cell_type": "code",
   "execution_count": null,
   "id": "b45aa92d-4e8c-41b6-b776-491a029720d7",
   "metadata": {},
   "outputs": [],
   "source": [
    "if is_new:\n",
    "    tmp = utils.load_distributions(DATA, 'PATCH')\n",
    "    df_results = utils.concat_dataframe(df_results, tmp)"
   ]
  },
  {
   "cell_type": "markdown",
   "id": "1710c2a3-aa43-4499-9120-e095a791c4c1",
   "metadata": {},
   "source": [
    "### DPAH\n",
    "**D**irected networks with **P**referential **A**ttachment and **H**omophily"
   ]
  },
  {
   "cell_type": "code",
   "execution_count": null,
   "id": "3d473bf0-3927-4082-acd6-85d0b533e33c",
   "metadata": {},
   "outputs": [],
   "source": [
    "if is_new:\n",
    "    tmp = utils.load_distributions(DATA, 'DPAH')\n",
    "    df_results = utils.concat_dataframe(df_results, tmp)"
   ]
  },
  {
   "cell_type": "markdown",
   "id": "1950142a-6d7e-4e04-a7e3-48c351d9250b",
   "metadata": {},
   "source": [
    "### DPA\n",
    "**D**irected networks with **P**referential **A**ttachment"
   ]
  },
  {
   "cell_type": "code",
   "execution_count": null,
   "id": "438f70a1-d6fd-4f55-b839-2154e8aa6927",
   "metadata": {},
   "outputs": [],
   "source": [
    "if is_new:\n",
    "    tmp = utils.load_distributions(DATA, 'DPA')\n",
    "    df_results = utils.concat_dataframe(df_results, tmp)"
   ]
  },
  {
   "cell_type": "markdown",
   "id": "3e65a7b5-7750-450a-9a67-a447bca78c54",
   "metadata": {},
   "source": [
    "### DH\n",
    "**D**irected networks with **H**omophily"
   ]
  },
  {
   "cell_type": "code",
   "execution_count": null,
   "id": "c93654fd-c737-4fd6-bf93-dcdc525881fb",
   "metadata": {},
   "outputs": [],
   "source": [
    "if is_new:\n",
    "    tmp = utils.load_distributions(DATA, 'DH')\n",
    "    df_results = utils.concat_dataframe(df_results, tmp)"
   ]
  },
  {
   "cell_type": "markdown",
   "id": "304f70e9-648f-4b68-b20b-9e74b55c702f",
   "metadata": {},
   "source": [
    "## Results"
   ]
  },
  {
   "cell_type": "code",
   "execution_count": null,
   "id": "b6d2b203-8b61-4633-80af-982b3dd99fe9",
   "metadata": {},
   "outputs": [],
   "source": [
    "if is_new:\n",
    "    io.to_csv(df_results, fn=FN_RESULTS, verbose=True)"
   ]
  },
  {
   "cell_type": "code",
   "execution_count": null,
   "id": "22d55d14-eacd-4173-ba96-8460552c8b80",
   "metadata": {},
   "outputs": [],
   "source": [
    "df_results.shape"
   ]
  },
  {
   "cell_type": "code",
   "execution_count": null,
   "id": "e232f85f-544f-44be-82ef-1147937d7c0c",
   "metadata": {},
   "outputs": [],
   "source": [
    "df_results.sample(5)"
   ]
  },
  {
   "cell_type": "markdown",
   "id": "c6c3202b-e7ce-478a-81c3-a5ae0e30fc5c",
   "metadata": {},
   "source": [
    "## Plots"
   ]
  },
  {
   "cell_type": "code",
   "execution_count": null,
   "id": "7004d672-3d4e-43d2-8d3e-b9198d107114",
   "metadata": {},
   "outputs": [],
   "source": [
    "data = utils.flatten_dataframe_by_metric(df_results)"
   ]
  },
  {
   "cell_type": "code",
   "execution_count": null,
   "id": "6aa618ed-f31b-4307-9260-05bd437dcf78",
   "metadata": {},
   "outputs": [],
   "source": []
  },
  {
   "cell_type": "code",
   "execution_count": null,
   "id": "3199bc3f-b938-4fa5-b947-a94a6f80f369",
   "metadata": {},
   "outputs": [],
   "source": []
  },
  {
   "cell_type": "code",
   "execution_count": null,
   "id": "03a9a1e9-de0e-4b02-b187-e3e11bd44de8",
   "metadata": {},
   "outputs": [],
   "source": []
  }
 ],
 "metadata": {
  "kernelspec": {
   "display_name": "Python 3 (ipykernel)",
   "language": "python",
   "name": "python3"
  },
  "language_info": {
   "codemirror_mode": {
    "name": "ipython",
    "version": 3
   },
   "file_extension": ".py",
   "mimetype": "text/x-python",
   "name": "python",
   "nbconvert_exporter": "python",
   "pygments_lexer": "ipython3",
   "version": "3.9.13"
  }
 },
 "nbformat": 4,
 "nbformat_minor": 5
}
