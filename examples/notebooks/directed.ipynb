{
 "cells": [
  {
   "cell_type": "markdown",
   "metadata": {
    "pycharm": {
     "name": ""
    }
   },
   "source": [
    "# Directed scale-free networks"
   ]
  },
  {
   "cell_type": "markdown",
   "metadata": {},
   "source": [
    "## Dependencies"
   ]
  },
  {
   "cell_type": "code",
   "execution_count": null,
   "metadata": {
    "ExecuteTime": {
     "end_time": "2023-04-13T20:01:07.441937Z",
     "start_time": "2023-04-13T20:01:07.407160Z"
    },
    "pycharm": {
     "is_executing": true
    }
   },
   "outputs": [],
   "source": [
    "%load_ext autoreload\n",
    "%autoreload 2\n",
    "\n",
    "from netin.models import DHModel, DPAModel, DPAHModel\n",
    "from netin import viz\n",
    "from netin.stats import get_node_metadata_as_dataframe"
   ]
  },
  {
   "cell_type": "markdown",
   "metadata": {},
   "source": [
    "## Network parameters"
   ]
  },
  {
   "cell_type": "code",
   "execution_count": null,
   "metadata": {
    "ExecuteTime": {
     "end_time": "2023-04-11T17:02:55.634209Z",
     "start_time": "2023-04-11T17:02:55.630971Z"
    }
   },
   "outputs": [],
   "source": [
    "N = 1000\n",
    "f_m = 0.1\n",
    "d = 0.01\n",
    "h_MM = 0.9\n",
    "h_mm = 0.9\n",
    "plo_M = 2.0\n",
    "plo_m = 2.0\n",
    "seed = 1234"
   ]
  },
  {
   "cell_type": "markdown",
   "metadata": {},
   "source": [
    "## Generation"
   ]
  },
  {
   "cell_type": "code",
   "execution_count": null,
   "metadata": {
    "ExecuteTime": {
     "end_time": "2023-04-11T17:02:55.755000Z",
     "start_time": "2023-04-11T17:02:55.636080Z"
    }
   },
   "outputs": [],
   "source": [
    "# DPA: Preferential attachment only\n",
    "m_dpa = DPAModel(N=N, f_m=f_m, d=d, plo_M=plo_M, plo_m=plo_m, seed=seed)\n",
    "m_dpa.simulate()"
   ]
  },
  {
   "cell_type": "code",
   "execution_count": null,
   "metadata": {},
   "outputs": [],
   "source": [
    "# DH: Homophily only\n",
    "m_dh = DHModel(N=N, f_m=f_m, d=d, h_mm=h_mm, h_MM=h_MM, plo_M=plo_M, plo_m=plo_m, seed=seed)\n",
    "m_dh.simulate()"
   ]
  },
  {
   "cell_type": "code",
   "execution_count": null,
   "metadata": {
    "ExecuteTime": {
     "end_time": "2023-04-11T17:02:55.880182Z",
     "start_time": "2023-04-11T17:02:55.754082Z"
    }
   },
   "outputs": [],
   "source": [
    "# DPAH: Preferential attachment and homophily\n",
    "m_dpah = DPAHModel(N=N, f_m=f_m, d=d, h_mm=h_mm, h_MM=h_MM, plo_M=plo_M, plo_m=plo_m, seed=seed)\n",
    "m_dpah.simulate()"
   ]
  },
  {
   "cell_type": "markdown",
   "metadata": {},
   "source": [
    "## Plots"
   ]
  },
  {
   "cell_type": "code",
   "execution_count": null,
   "metadata": {},
   "outputs": [],
   "source": [
    "viz.reset_style()\n",
    "viz.set_paper_style()"
   ]
  },
  {
   "cell_type": "markdown",
   "metadata": {},
   "source": [
    "### Graph"
   ]
  },
  {
   "cell_type": "code",
   "execution_count": null,
   "metadata": {},
   "outputs": [],
   "source": [
    "models = [m_dpa, m_dh, m_dpah]\n",
    "viz.plot_graph(models,\n",
    "               cell_size=2,\n",
    "               edge_width=0.4,\n",
    "               ignore_singletons=True,\n",
    "               share_pos=False)"
   ]
  },
  {
   "cell_type": "markdown",
   "metadata": {},
   "source": [
    "### Node attributes"
   ]
  },
  {
   "cell_type": "code",
   "execution_count": null,
   "metadata": {},
   "outputs": [],
   "source": [
    "distributions = []\n",
    "for m in models:\n",
    "    md = get_node_metadata_as_dataframe(graph=m.graph, n_jobs=10)\n",
    "    md.name = m.SHORT\n",
    "    distributions.append(md)\n",
    "    del(md)"
   ]
  },
  {
   "cell_type": "code",
   "execution_count": null,
   "metadata": {},
   "outputs": [],
   "source": [
    "# see example of generate metadata\n",
    "distributions[0].head()"
   ]
  },
  {
   "cell_type": "markdown",
   "metadata": {},
   "source": [
    "#### In-degree"
   ]
  },
  {
   "cell_type": "code",
   "execution_count": null,
   "metadata": {},
   "outputs": [],
   "source": [
    "viz.plot_powerlaw_fit(distributions, col_name='in_degree', hue='real_label',\n",
    "                      kind='pdf', fontsize=8,\n",
    "                      cell_size=2.7, sharex=True, sharey=True)"
   ]
  },
  {
   "cell_type": "code",
   "execution_count": null,
   "metadata": {},
   "outputs": [],
   "source": [
    "viz.plot_powerlaw_fit(distributions, col_name='in_degree', hue='real_label',\n",
    "                      kind='cdf', fontsize=8,\n",
    "                      cell_size=2.7, sharex=True, sharey=True)"
   ]
  },
  {
   "cell_type": "code",
   "execution_count": null,
   "metadata": {},
   "outputs": [],
   "source": [
    "viz.plot_powerlaw_fit(distributions, col_name='in_degree', hue='real_label',\n",
    "                      kind='ccdf', fontsize=8,\n",
    "                      cell_size=2.7, sharex=True, sharey=True)"
   ]
  },
  {
   "cell_type": "markdown",
   "metadata": {},
   "source": [
    "#### Out-degree"
   ]
  },
  {
   "cell_type": "code",
   "execution_count": null,
   "metadata": {},
   "outputs": [],
   "source": [
    "viz.plot_powerlaw_fit(distributions, col_name='out_degree', hue='real_label',\n",
    "                      kind='pdf', fontsize=8,\n",
    "                      cell_size=2.7, sharex=True, sharey=True)"
   ]
  },
  {
   "cell_type": "code",
   "execution_count": null,
   "metadata": {},
   "outputs": [],
   "source": [
    "viz.plot_powerlaw_fit(distributions, col_name='out_degree', hue='real_label',\n",
    "                      kind='cdf', fontsize=8,\n",
    "                      cell_size=2.7, sharex=True, sharey=True)"
   ]
  },
  {
   "cell_type": "code",
   "execution_count": null,
   "metadata": {},
   "outputs": [],
   "source": [
    "viz.plot_powerlaw_fit(distributions, col_name='out_degree', hue='real_label',\n",
    "                      kind='ccdf', fontsize=8,\n",
    "                      cell_size=2.7, sharex=True, sharey=True)"
   ]
  },
  {
   "cell_type": "markdown",
   "metadata": {},
   "source": [
    "#### Clustering"
   ]
  },
  {
   "cell_type": "code",
   "execution_count": null,
   "metadata": {},
   "outputs": [],
   "source": [
    "viz.plot_powerlaw_fit(distributions, col_name='clustering', hue='real_label',\n",
    "                      kind='ccdf', verbose=False, bbox=(0.97, 0.9), fontsize=8,\n",
    "                      wspace=0.1, cell_size=(2.8,2.7), sharex=True, sharey=True)"
   ]
  },
  {
   "cell_type": "markdown",
   "metadata": {},
   "source": [
    "#### PageRank"
   ]
  },
  {
   "cell_type": "code",
   "execution_count": null,
   "metadata": {},
   "outputs": [],
   "source": [
    "viz.plot_powerlaw_fit(distributions, col_name='pagerank', hue='real_label',\n",
    "                      kind='ccdf', verbose=False, bbox=(1.0, 0.9), fontsize=8,\n",
    "                      cell_size=2.7, sharex=True, sharey=True)"
   ]
  },
  {
   "cell_type": "code",
   "execution_count": null,
   "metadata": {},
   "outputs": [],
   "source": []
  }
 ],
 "metadata": {
  "kernelspec": {
   "display_name": "Python 3 (ipykernel)",
   "language": "python",
   "name": "python3"
  },
  "language_info": {
   "codemirror_mode": {
    "name": "ipython",
    "version": 3
   },
   "file_extension": ".py",
   "mimetype": "text/x-python",
   "name": "python",
   "nbconvert_exporter": "python",
   "pygments_lexer": "ipython3",
   "version": "3.9.16"
  }
 },
 "nbformat": 4,
 "nbformat_minor": 1
}
