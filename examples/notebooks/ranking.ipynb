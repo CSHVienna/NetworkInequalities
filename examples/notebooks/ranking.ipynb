{
 "cells": [
  {
   "cell_type": "markdown",
   "metadata": {},
   "source": [
    "# Ranking of nodes"
   ]
  },
  {
   "cell_type": "markdown",
   "metadata": {},
   "source": [
    "## Dependencies"
   ]
  },
  {
   "cell_type": "code",
   "execution_count": 1,
   "metadata": {
    "ExecuteTime": {
     "end_time": "2023-04-15T20:38:40.219690Z",
     "start_time": "2023-04-15T20:38:40.182018Z"
    }
   },
   "outputs": [],
   "source": [
    "%load_ext autoreload\n",
    "%autoreload 2\n",
    "\n",
    "from typing import Union, Any\n",
    "\n",
    "import pandas as pd\n",
    "\n",
    "from netin.models import DPAHModel, PAHModel\n",
    "from netin import viz\n",
    "from netin import stats"
   ]
  },
  {
   "cell_type": "markdown",
   "metadata": {},
   "source": [
    "## Helpers"
   ]
  },
  {
   "cell_type": "code",
   "execution_count": null,
   "metadata": {},
   "outputs": [],
   "source": [
    "def get_title(df: pd.DataFrame, f_m: float, h_MM: float, h_mm: float):\n",
    "    g = [r\"f$_{m}$=<fm>\".replace(\"<fm>\",f\"{f_m}\")]\n",
    "    if h_MM == h_mm:\n",
    "        s = r\"h$_{MM}$=h$_{mm}$=<h>\".replace(\"<h>\",f\"{h_MM}\")\n",
    "    else:\n",
    "        s = r\"h$_{MM}$>h$_{mm}$\" if h_MM > h_mm else r\"h$_{MM}$<h$_{mm}$\"\n",
    "    g.append(s)\n",
    "\n",
    "    return f\"{df.name}\\n{', '.join(g)}\"\n",
    "\n",
    "def create_pah(\n",
    "        n: int, f_m: float, k: int,\n",
    "        h_MM: float, h_mm: float,\n",
    "        seed: Union[int, Any, None] = None):\n",
    "    model = PAHModel(n=n, f_m=f_m, k=k, h_MM=h_MM, h_mm=h_mm, seed=seed)\n",
    "    graph = model.simulate()\n",
    "    df = stats.get_node_metadata_as_dataframe(\n",
    "        graph=graph, include_graph_metadata=False)\n",
    "    df.name = PAHModel.SHORT\n",
    "    df.name = get_title(df, f_m, h_MM, h_mm)\n",
    "\n",
    "    return df\n",
    "\n",
    "def create_dpah(\n",
    "        n: int, f_m: float, d: float,\n",
    "        h_MM: float, h_mm: float,\n",
    "        plo_M: float, plo_m: float,\n",
    "        seed: Union[int, Any, None] = None):\n",
    "    model = DPAHModel(n=n, d=d, f_m=f_m, h_MM=h_MM, h_mm=h_mm, plo_M=plo_M, plo_m=plo_m, seed=seed)\n",
    "    graph = model.simulate()\n",
    "    df = stats.get_node_metadata_as_dataframe(\n",
    "        graph=graph, include_graph_metadata=False)\n",
    "    df.name = DPAHModel.SHORT\n",
    "    df.name = get_title(df, f_m, h_MM, h_mm)\n",
    "\n",
    "    return df"
   ]
  },
  {
   "cell_type": "markdown",
   "metadata": {},
   "source": [
    "## Generating balanced graphs"
   ]
  },
  {
   "cell_type": "code",
   "execution_count": null,
   "metadata": {},
   "outputs": [],
   "source": [
    "n = 500\n",
    "f_m = 0.5\n",
    "k = 2\n",
    "d = 0.005\n",
    "plo_M = 2.0\n",
    "plo_m = 2.0\n",
    "seed = 9876\n",
    "\n",
    "node_metadata_balance_pah = []\n",
    "node_metadata_balance_dpah = []"
   ]
  },
  {
   "cell_type": "markdown",
   "metadata": {},
   "source": [
    "### Neutral"
   ]
  },
  {
   "cell_type": "code",
   "execution_count": null,
   "metadata": {},
   "outputs": [],
   "source": [
    "h_MM = 0.5\n",
    "h_mm = 0.5\n",
    "\n",
    "# pah\n",
    "df = create_pah(n=n, f_m=f_m, k=k, h_MM=h_MM, h_mm=h_mm, seed=seed)\n",
    "node_metadata_balance_pah.append(df)\n",
    "\n",
    "#daph\n",
    "df = create_dpah(n=n, d=d, f_m=f_m, h_MM=h_MM, h_mm=h_mm, plo_M=plo_M, plo_m=plo_m, seed=seed)\n",
    "node_metadata_balance_dpah.append(df)"
   ]
  },
  {
   "cell_type": "markdown",
   "metadata": {},
   "source": [
    "### Homophilic"
   ]
  },
  {
   "cell_type": "code",
   "execution_count": null,
   "metadata": {},
   "outputs": [],
   "source": [
    "h_MM = 0.9\n",
    "h_mm = 0.9\n",
    "\n",
    "# pah\n",
    "df = create_pah(n=n, f_m=f_m, k=k, h_MM=h_MM, h_mm=h_mm, seed=seed)\n",
    "node_metadata_balance_pah.append(df)\n",
    "\n",
    "#daph\n",
    "df = create_dpah(n=n, d=d, f_m=f_m, h_MM=h_MM, h_mm=h_mm, plo_M=plo_M, plo_m=plo_m, seed=seed)\n",
    "node_metadata_balance_dpah.append(df)"
   ]
  },
  {
   "cell_type": "markdown",
   "metadata": {},
   "source": [
    "### Heterophilic"
   ]
  },
  {
   "cell_type": "code",
   "execution_count": null,
   "metadata": {},
   "outputs": [],
   "source": [
    "h_MM = 0.1\n",
    "h_mm = 0.1\n",
    "\n",
    "# pah\n",
    "df = create_pah(n=n, f_m=f_m, k=k, h_MM=h_MM, h_mm=h_mm, seed=seed)\n",
    "node_metadata_balance_pah.append(df)\n",
    "\n",
    "#daph\n",
    "df = create_dpah(n=n, d=d, f_m=f_m, h_MM=h_MM, h_mm=h_mm, plo_M=plo_M, plo_m=plo_m, seed=seed)\n",
    "node_metadata_balance_dpah.append(df)"
   ]
  },
  {
   "cell_type": "markdown",
   "metadata": {},
   "source": [
    "### Mixed $(h_{MM} > h_{mm})$"
   ]
  },
  {
   "cell_type": "code",
   "execution_count": null,
   "metadata": {},
   "outputs": [],
   "source": [
    "h_MM = 0.9\n",
    "h_mm = 0.1\n",
    "\n",
    "# pah\n",
    "df = create_pah(n=n, f_m=f_m, k=k, h_MM=h_MM, h_mm=h_mm, seed=seed)\n",
    "node_metadata_balance_pah.append(df)\n",
    "\n",
    "#daph\n",
    "df = create_dpah(n=n, d=d, f_m=f_m, h_MM=h_MM, h_mm=h_mm, plo_M=plo_M, plo_m=plo_m, seed=seed)\n",
    "node_metadata_balance_dpah.append(df)"
   ]
  },
  {
   "cell_type": "markdown",
   "metadata": {},
   "source": [
    "### Mixed $(h_{mm} > h_{MM})$"
   ]
  },
  {
   "cell_type": "code",
   "execution_count": null,
   "metadata": {},
   "outputs": [],
   "source": [
    "h_MM = 0.1\n",
    "h_mm = 0.9\n",
    "\n",
    "# pah\n",
    "df = create_pah(n=n, f_m=f_m, k=k, h_MM=h_MM, h_mm=h_mm, seed=seed)\n",
    "node_metadata_balance_pah.append(df)\n",
    "\n",
    "#daph\n",
    "df = create_dpah(n=n, d=d, f_m=f_m, h_MM=h_MM, h_mm=h_mm, plo_M=plo_M, plo_m=plo_m, seed=seed)\n",
    "node_metadata_balance_dpah.append(df)"
   ]
  },
  {
   "cell_type": "markdown",
   "metadata": {},
   "source": [
    "## Generating unbalanced graphs"
   ]
  },
  {
   "cell_type": "code",
   "execution_count": null,
   "metadata": {},
   "outputs": [],
   "source": [
    "f_m = 0.2\n",
    "\n",
    "node_metadata_unbalance_pah = []\n",
    "node_metadata_unbalance_dpah = []"
   ]
  },
  {
   "cell_type": "markdown",
   "metadata": {},
   "source": [
    "### Neutral"
   ]
  },
  {
   "cell_type": "code",
   "execution_count": null,
   "metadata": {},
   "outputs": [],
   "source": [
    "h_MM = 0.5\n",
    "h_mm = 0.5\n",
    "\n",
    "# pah\n",
    "df = create_pah(n=n, f_m=f_m, k=k, h_MM=h_MM, h_mm=h_mm, seed=seed)\n",
    "node_metadata_unbalance_pah.append(df)\n",
    "\n",
    "#daph\n",
    "df = create_dpah(n=n, d=d, f_m=f_m, h_MM=h_MM, h_mm=h_mm, plo_M=plo_M, plo_m=plo_m, seed=seed)\n",
    "node_metadata_unbalance_dpah.append(df)"
   ]
  },
  {
   "cell_type": "markdown",
   "metadata": {},
   "source": [
    "### Homophilic"
   ]
  },
  {
   "cell_type": "code",
   "execution_count": null,
   "metadata": {},
   "outputs": [],
   "source": [
    "h_MM = 0.9\n",
    "h_mm = 0.9\n",
    "\n",
    "# pah\n",
    "df = create_pah(n=n, f_m=f_m, k=k, h_MM=h_MM, h_mm=h_mm, seed=seed)\n",
    "node_metadata_unbalance_pah.append(df)\n",
    "\n",
    "#daph\n",
    "df = create_dpah(n=n, d=d, f_m=f_m, h_MM=h_MM, h_mm=h_mm, plo_M=plo_M, plo_m=plo_m, seed=seed)\n",
    "node_metadata_unbalance_dpah.append(df)"
   ]
  },
  {
   "cell_type": "markdown",
   "metadata": {},
   "source": [
    "### Heterophilic"
   ]
  },
  {
   "cell_type": "code",
   "execution_count": null,
   "metadata": {},
   "outputs": [],
   "source": [
    "h_MM = 0.1\n",
    "h_mm = 0.1\n",
    "\n",
    "# pah\n",
    "df = create_pah(n=n, f_m=f_m, k=k, h_MM=h_MM, h_mm=h_mm, seed=seed)\n",
    "node_metadata_unbalance_pah.append(df)\n",
    "\n",
    "#daph\n",
    "df = create_dpah(n=n, d=d, f_m=f_m, h_MM=h_MM, h_mm=h_mm, plo_M=plo_M, plo_m=plo_m, seed=seed)\n",
    "node_metadata_unbalance_dpah.append(df)"
   ]
  },
  {
   "cell_type": "markdown",
   "metadata": {},
   "source": [
    "### Mixed $(h_{MM} > h_{mm})$"
   ]
  },
  {
   "cell_type": "code",
   "execution_count": null,
   "metadata": {},
   "outputs": [],
   "source": [
    "h_MM = 0.9\n",
    "h_mm = 0.1\n",
    "\n",
    "# pah\n",
    "df = create_pah(n=n, f_m=f_m, k=k, h_MM=h_MM, h_mm=h_mm, seed=seed)\n",
    "node_metadata_unbalance_pah.append(df)\n",
    "\n",
    "#daph\n",
    "df = create_dpah(n=n, d=d, f_m=f_m, h_MM=h_MM, h_mm=h_mm, plo_M=plo_M, plo_m=plo_m, seed=seed)\n",
    "node_metadata_unbalance_dpah.append(df)"
   ]
  },
  {
   "cell_type": "markdown",
   "metadata": {},
   "source": [
    "### Mixed $(h_{mm} > h_{MM})$"
   ]
  },
  {
   "cell_type": "code",
   "execution_count": null,
   "metadata": {},
   "outputs": [],
   "source": [
    "h_MM = 0.1\n",
    "h_mm = 0.9\n",
    "\n",
    "# pah\n",
    "df = create_pah(n=n, f_m=f_m, k=k, h_MM=h_MM, h_mm=h_mm, seed=seed)\n",
    "node_metadata_unbalance_pah.append(df)\n",
    "\n",
    "#daph\n",
    "df = create_dpah(n=n, d=d, f_m=f_m, h_MM=h_MM, h_mm=h_mm, plo_M=plo_M, plo_m=plo_m, seed=seed)\n",
    "node_metadata_unbalance_dpah.append(df)"
   ]
  },
  {
   "cell_type": "markdown",
   "metadata": {},
   "source": [
    "## Plots"
   ]
  },
  {
   "cell_type": "code",
   "execution_count": null,
   "metadata": {},
   "outputs": [],
   "source": [
    "viz.reset_style()\n",
    "viz.set_paper_style()"
   ]
  },
  {
   "cell_type": "markdown",
   "metadata": {},
   "source": [
    "### Inequity\n",
    "Fraction of minority in top-k"
   ]
  },
  {
   "cell_type": "code",
   "execution_count": null,
   "metadata": {},
   "outputs": [],
   "source": [
    "# Comparing the effect of preferential attachment on balance graphs\n",
    "\n",
    "combined_data = node_metadata_balance_pah.copy()\n",
    "combined_data.extend(node_metadata_balance_dpah)\n",
    "combined_metric = ['degree' if df.degree.dtype==int else 'in_degree' for df in combined_data]\n",
    "\n",
    "viz.plot_fraction_of_minority(combined_data,\n",
    "                              col_name=combined_metric,\n",
    "                              sharex=True, sharey=True,\n",
    "                              nc=5, wspace=0.08, cell_size=(1.9,2.2))"
   ]
  },
  {
   "cell_type": "code",
   "execution_count": null,
   "metadata": {},
   "outputs": [],
   "source": [
    "# Comparing the effect of preferential attachment on unbalance graphs\n",
    "\n",
    "combined_data = node_metadata_unbalance_pah.copy()\n",
    "combined_data.extend(node_metadata_unbalance_dpah)\n",
    "combined_metric = ['degree' if df.degree.dtype==int else 'in_degree' for df in combined_data]\n",
    "\n",
    "viz.plot_fraction_of_minority(combined_data,\n",
    "                              col_name=combined_metric,\n",
    "                              sharex=True, sharey=True,\n",
    "                              nc=5, wspace=0.08, cell_size=(1.9,2.2))"
   ]
  },
  {
   "cell_type": "code",
   "execution_count": null,
   "metadata": {},
   "outputs": [],
   "source": [
    "# comparing between balanced and unbalanced across directed graphs\n",
    "combined_data = node_metadata_balance_dpah.copy()\n",
    "combined_data.extend(node_metadata_unbalance_dpah)\n",
    "\n",
    "viz.plot_fraction_of_minority(combined_data,\n",
    "                              col_name='out_degree',\n",
    "                              sharex=True, sharey=True,\n",
    "                              nc=5, wspace=0.08, cell_size=(1.9,2.2))"
   ]
  },
  {
   "cell_type": "code",
   "execution_count": null,
   "metadata": {},
   "outputs": [],
   "source": [
    "# comparing between balanced and unbalanced across directed graphs\n",
    "combined_data = node_metadata_balance_dpah.copy()\n",
    "combined_data.extend(node_metadata_unbalance_dpah)\n",
    "\n",
    "viz.plot_fraction_of_minority(combined_data,\n",
    "                              col_name='pagerank',\n",
    "                              sharex=True, sharey=True,\n",
    "                              nc=5, wspace=0.08, cell_size=(1.9,2.2))"
   ]
  },
  {
   "cell_type": "markdown",
   "metadata": {},
   "source": [
    "### Inequality\n",
    "Gini coefficient of distribution"
   ]
  },
  {
   "cell_type": "code",
   "execution_count": null,
   "metadata": {},
   "outputs": [],
   "source": [
    "# Comparing the effect of preferential attachment on balance graphs\n",
    "\n",
    "combined_data = node_metadata_balance_pah.copy()\n",
    "combined_data.extend(node_metadata_balance_dpah)\n",
    "combined_metric = ['degree' if df.degree.dtype==int else 'in_degree' for df in combined_data]\n",
    "\n",
    "viz.plot_gini_coefficient(combined_data,\n",
    "                          col_name=combined_metric,\n",
    "                          sharex=True, sharey=True,\n",
    "                          nc=5, wspace=0.08, cell_size=(1.9,2.2))"
   ]
  },
  {
   "cell_type": "code",
   "execution_count": null,
   "metadata": {},
   "outputs": [],
   "source": [
    "# Comparing the effect of preferential attachment on unbalance graphs\n",
    "\n",
    "combined_data = node_metadata_unbalance_pah.copy()\n",
    "combined_data.extend(node_metadata_unbalance_dpah)\n",
    "combined_metric = ['degree' if df.degree.dtype==int else 'in_degree' for df in combined_data]\n",
    "\n",
    "viz.plot_gini_coefficient(combined_data,\n",
    "                          col_name=combined_metric,\n",
    "                          sharex=True, sharey=True,\n",
    "                          nc=5, wspace=0.08, cell_size=(1.9,2.2))"
   ]
  },
  {
   "cell_type": "code",
   "execution_count": null,
   "metadata": {},
   "outputs": [],
   "source": [
    "# comparing between balanced and unbalanced across directed graphs\n",
    "combined_data = node_metadata_balance_dpah.copy()\n",
    "combined_data.extend(node_metadata_unbalance_dpah)\n",
    "\n",
    "viz.plot_gini_coefficient(combined_data,\n",
    "                          col_name='out_degree',\n",
    "                          sharex=True, sharey=True,\n",
    "                          nc=5, wspace=0.08, cell_size=(1.9,2.2))"
   ]
  },
  {
   "cell_type": "code",
   "execution_count": null,
   "metadata": {},
   "outputs": [],
   "source": [
    "# comparing between balanced and unbalanced across directed graphs\n",
    "combined_data = node_metadata_balance_dpah.copy()\n",
    "combined_data.extend(node_metadata_unbalance_dpah)\n",
    "\n",
    "viz.plot_gini_coefficient(combined_data,\n",
    "                          col_name='pagerank',\n",
    "                          sharex=True, sharey=True,\n",
    "                          nc=5, wspace=0.08, cell_size=(1.9,2.2))"
   ]
  },
  {
   "cell_type": "markdown",
   "metadata": {},
   "source": [
    "### Inequity vs Inequality\n",
    "Fraction of minority vs Gini coefficient of distribution"
   ]
  },
  {
   "cell_type": "code",
   "execution_count": null,
   "metadata": {},
   "outputs": [],
   "source": [
    "# Comparing the effect of preferential attachment on balance graphs\n",
    "\n",
    "combined_data = node_metadata_balance_pah.copy()\n",
    "combined_data.extend(node_metadata_balance_dpah)\n",
    "combined_metric = ['degree' if df.degree.dtype==int else 'in_degree' for df in combined_data]\n",
    "\n",
    "viz.plot_disparity(combined_data,\n",
    "                   col_name=combined_metric,\n",
    "                   sharex=True, sharey=True,\n",
    "                   nc=5, wspace=0.08, cell_size=(1.8,2.))"
   ]
  },
  {
   "cell_type": "code",
   "execution_count": null,
   "metadata": {},
   "outputs": [],
   "source": [
    "# comparing between balanced and unbalanced across directed graphs\n",
    "combined_data = node_metadata_balance_dpah.copy()\n",
    "combined_data.extend(node_metadata_unbalance_dpah)\n",
    "\n",
    "viz.plot_disparity(combined_data,\n",
    "                   col_name='pagerank',\n",
    "                   sharex=True, sharey=True,\n",
    "                   nc=5, wspace=0.08, cell_size=(1.8,2.))"
   ]
  }
 ],
 "metadata": {
  "kernelspec": {
   "display_name": "Python 3 (ipykernel)",
   "language": "python",
   "name": "python3"
  },
  "language_info": {
   "codemirror_mode": {
    "name": "ipython",
    "version": 3
   },
   "file_extension": ".py",
   "mimetype": "text/x-python",
   "name": "python",
   "nbconvert_exporter": "python",
   "pygments_lexer": "ipython3",
   "version": "3.9.16"
  }
 },
 "nbformat": 4,
 "nbformat_minor": 1
}
